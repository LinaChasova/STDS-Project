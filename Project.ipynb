{
 "cells": [
  {
   "cell_type": "code",
   "execution_count": 1,
   "metadata": {
    "ExecuteTime": {
     "end_time": "2019-11-25T17:07:53.556700Z",
     "start_time": "2019-11-25T17:07:48.591555Z"
    }
   },
   "outputs": [
    {
     "name": "stderr",
     "output_type": "stream",
     "text": [
      "Using TensorFlow backend.\n"
     ]
    }
   ],
   "source": [
    "import warnings\n",
    "\n",
    "import matplotlib.pyplot as plt\n",
    "import numpy as np\n",
    "import pandas as pd\n",
    "from keras.layers import Dense, Input\n",
    "from keras.models import Model\n",
    "from sklearn import neighbors\n",
    "from sklearn.decomposition import PCA\n",
    "from sklearn.discriminant_analysis import LinearDiscriminantAnalysis as LDA\n",
    "from sklearn.metrics import accuracy_score\n",
    "from sklearn.model_selection import train_test_split\n",
    "import math\n",
    "\n",
    "%matplotlib inline\n",
    "\n",
    "warnings.filterwarnings(\"ignore\")"
   ]
  },
  {
   "cell_type": "markdown",
   "metadata": {},
   "source": [
    "## Load Datasets"
   ]
  },
  {
   "cell_type": "code",
   "execution_count": 2,
   "metadata": {
    "ExecuteTime": {
     "end_time": "2019-11-25T17:07:53.597528Z",
     "start_time": "2019-11-25T17:07:53.559304Z"
    }
   },
   "outputs": [],
   "source": [
    "df = pd.read_csv('data_arrhythmia.csv', sep=';').drop(['T', 'P', 'QRST', 'J', 'heart_rate'], axis=1)\n",
    "x = df.drop(['diagnosis'], axis=1)\n",
    "y = df['diagnosis']"
   ]
  },
  {
   "cell_type": "markdown",
   "metadata": {},
   "source": [
    "## Threshold for choosing dimensionality"
   ]
  },
  {
   "cell_type": "code",
   "execution_count": 3,
   "metadata": {
    "ExecuteTime": {
     "end_time": "2019-11-25T17:07:53.604298Z",
     "start_time": "2019-11-25T17:07:53.599839Z"
    }
   },
   "outputs": [],
   "source": [
    "n = 2\n",
    "N = 15"
   ]
  },
  {
   "cell_type": "markdown",
   "metadata": {},
   "source": [
    "## Compute dimensionality reduction\n",
    "\n",
    "### PCA"
   ]
  },
  {
   "cell_type": "code",
   "execution_count": 4,
   "metadata": {
    "ExecuteTime": {
     "end_time": "2019-11-25T17:07:53.613358Z",
     "start_time": "2019-11-25T17:07:53.609168Z"
    }
   },
   "outputs": [],
   "source": [
    "def perform_pca(df, n_components):\n",
    "    pca = PCA(n_components=n_components)\n",
    "    pca.fit(df)\n",
    "    return pca"
   ]
  },
  {
   "cell_type": "markdown",
   "metadata": {},
   "source": [
    "### LDA"
   ]
  },
  {
   "cell_type": "code",
   "execution_count": 5,
   "metadata": {
    "ExecuteTime": {
     "end_time": "2019-11-25T17:07:53.624698Z",
     "start_time": "2019-11-25T17:07:53.618361Z"
    }
   },
   "outputs": [],
   "source": [
    "def perform_lda(x, y, n_components):\n",
    "    lda = LDA(n_components=n_components)\n",
    "    lda.fit(x, y)\n",
    "    return lda"
   ]
  },
  {
   "cell_type": "markdown",
   "metadata": {},
   "source": [
    "### Autoencoder"
   ]
  },
  {
   "cell_type": "code",
   "execution_count": 6,
   "metadata": {
    "ExecuteTime": {
     "end_time": "2019-11-25T17:07:53.635102Z",
     "start_time": "2019-11-25T17:07:53.627437Z"
    }
   },
   "outputs": [],
   "source": [
    "def perform_autoencoder(df, encoding_dim):\n",
    "    input_df = Input(shape=(df.shape[1], ))\n",
    "\n",
    "    encoded = Dense(encoding_dim, activation='relu')(input_df)\n",
    "    decoded = Dense(df.shape[1], activation='sigmoid')(encoded)\n",
    "\n",
    "    autoencoder = Model(input_df, decoded)\n",
    "    encoder = Model(input_df, encoded)\n",
    "\n",
    "    autoencoder.compile(optimizer='adadelta', loss='mean_squared_error')\n",
    "\n",
    "    autoencoder.fit(df, df, epochs=150, batch_size=64, shuffle=True, verbose=0)\n",
    "    return autoencoder"
   ]
  },
  {
   "cell_type": "markdown",
   "metadata": {},
   "source": [
    "### Overall Algorithm"
   ]
  },
  {
   "cell_type": "code",
   "execution_count": 7,
   "metadata": {
    "ExecuteTime": {
     "end_time": "2019-11-25T17:07:53.652382Z",
     "start_time": "2019-11-25T17:07:53.636972Z"
    },
    "code_folding": []
   },
   "outputs": [],
   "source": [
    "def dimensionality_reduction(x, y, n, N):\n",
    "    pca_accuracy = []\n",
    "    lda_accuracy = []\n",
    "    autoencoder_accuracy = []\n",
    "\n",
    "    x_train, x_test, y_train, y_test = train_test_split(x, y, test_size=0.3)\n",
    "\n",
    "    for n_components in range(n, N + 1):\n",
    "        pca = perform_pca(x_train, n_components)\n",
    "        lda = perform_lda(x_train, y_train, n_components)\n",
    "        autoencoder = perform_autoencoder(x_train, n_components)\n",
    "\n",
    "        pca_x_train, pca_x_test = pca.transform(x_train), pca.transform(x_test)\n",
    "        lda_x_train, lda_x_test = lda.transform(x_train), lda.transform(x_test)\n",
    "        autoencoder_x_train, autoencoder_x_test = autoencoder.predict(\n",
    "            x_train), autoencoder.predict(x_test)\n",
    "\n",
    "        pca_classifier = neighbors.KNeighborsClassifier(n_neighbors=5,\n",
    "                                                        metric='euclidean')\n",
    "        lda_classifier = neighbors.KNeighborsClassifier(n_neighbors=5,\n",
    "                                                        metric='euclidean')\n",
    "        autoencoder_classifier = neighbors.KNeighborsClassifier(\n",
    "            n_neighbors=5, metric='euclidean')\n",
    "\n",
    "        pca_classifier.fit(pca_x_train, y_train)\n",
    "        lda_classifier.fit(lda_x_train, y_train)\n",
    "        autoencoder_classifier.fit(autoencoder_x_train, y_train)\n",
    "\n",
    "        pca_predictions = pca_classifier.predict(pca_x_test)\n",
    "        lda_predictions = lda_classifier.predict(lda_x_test)\n",
    "        autoencoder_predictions = autoencoder_classifier.predict(\n",
    "            autoencoder_x_test)\n",
    "\n",
    "        pca_accuracy.append(accuracy_score(y_test, pca_predictions))\n",
    "        lda_accuracy.append(accuracy_score(y_test, lda_predictions))\n",
    "        autoencoder_accuracy.append(\n",
    "            accuracy_score(y_test, autoencoder_predictions))\n",
    "\n",
    "    plt.figure(figsize=(12, 9))\n",
    "    plt.plot(range(n, N + 1),\n",
    "             pca_accuracy,\n",
    "             '-o',\n",
    "             markersize=3,\n",
    "             label='PCA',\n",
    "             color='black')\n",
    "    plt.plot(range(n, N + 1),\n",
    "             lda_accuracy,\n",
    "             '-o',\n",
    "             markersize=3,\n",
    "             label='LDA',\n",
    "             color='darkorchid')\n",
    "    plt.plot(range(n, N + 1),\n",
    "             autoencoder_accuracy,\n",
    "             '-o',\n",
    "             markersize=3,\n",
    "             label='Autoencoder',\n",
    "             color='firebrick')\n",
    "    plt.legend(loc='lower center')\n",
    "\n",
    "    for y in range(\n",
    "            math.floor(100 * min(min(pca_accuracy), min(lda_accuracy),\n",
    "                                 min(autoencoder_accuracy))),\n",
    "            math.ceil(100 * max(max(pca_accuracy), max(lda_accuracy),\n",
    "                                max(autoencoder_accuracy))) + 1, 5):\n",
    "        plt.plot(range(n, N + 1), [y * 0.01] * len(range(n, N + 1)),\n",
    "                 linestyle=(0, (5, 10)),\n",
    "                 lw=0.5,\n",
    "                 color=\"black\",\n",
    "                 alpha=0.3)\n",
    "\n",
    "    plt.xlim(n, N)\n",
    "    plt.show()"
   ]
  },
  {
   "cell_type": "code",
   "execution_count": 8,
   "metadata": {
    "ExecuteTime": {
     "end_time": "2019-11-25T17:08:13.185268Z",
     "start_time": "2019-11-25T17:07:53.654778Z"
    },
    "scrolled": false
   },
   "outputs": [
    {
     "data": {
      "image/png": "[encoded data removed]",
      "text/plain": [
       "<Figure size 864x648 with 1 Axes>"
      ]
     },
     "metadata": {
      "needs_background": "light"
     },
     "output_type": "display_data"
    }
   ],
   "source": [
    "dimensionality_reduction(x, y, n, N)"
   ]
  },
  {
   "cell_type": "code",
   "execution_count": null,
   "metadata": {},
   "outputs": [],
   "source": []
  }
 ],
 "metadata": {
  "kernelspec": {
   "display_name": "Python 3",
   "language": "python",
   "name": "python3"
  },
  "language_info": {
   "codemirror_mode": {
    "name": "ipython",
    "version": 3
   },
   "file_extension": ".py",
   "mimetype": "text/x-python",
   "name": "python",
   "nbconvert_exporter": "python",
   "pygments_lexer": "ipython3",
   "version": "3.7.4"
  },
  "latex_envs": {
   "LaTeX_envs_menu_present": true,
   "autoclose": false,
   "autocomplete": true,
   "bibliofile": "biblio.bib",
   "cite_by": "apalike",
   "current_citInitial": 1,
   "eqLabelWithNumbers": true,
   "eqNumInitial": 1,
   "hotkeys": {
    "equation": "Ctrl-E",
    "itemize": "Ctrl-I"
   },
   "labels_anchors": false,
   "latex_user_defs": false,
   "report_style_numbering": false,
   "user_envs_cfg": false
  },
  "toc": {
   "base_numbering": 1,
   "nav_menu": {
    "height": "108px",
    "width": "282px"
   },
   "number_sections": true,
   "sideBar": true,
   "skip_h1_title": false,
   "title_cell": "Table of Contents",
   "title_sidebar": "Contents",
   "toc_cell": false,
   "toc_position": {
    "height": "calc(100% - 180px)",
    "left": "10px",
    "top": "150px",
    "width": "288px"
   },
   "toc_section_display": true,
   "toc_window_display": true
  },
  "varInspector": {
   "cols": {
    "lenName": 16,
    "lenType": 16,
    "lenVar": 40
   },
   "kernels_config": {
    "python": {
     "delete_cmd_postfix": "",
     "delete_cmd_prefix": "del ",
     "library": "var_list.py",
     "varRefreshCmd": "print(var_dic_list())"
    },
    "r": {
     "delete_cmd_postfix": ") ",
     "delete_cmd_prefix": "rm(",
     "library": "var_list.r",
     "varRefreshCmd": "cat(var_dic_list()) "
    }
   },
   "types_to_exclude": [
    "module",
    "function",
    "builtin_function_or_method",
    "instance",
    "_Feature"
   ],
   "window_display": false
  }
 },
 "nbformat": 4,
 "nbformat_minor": 2
}
